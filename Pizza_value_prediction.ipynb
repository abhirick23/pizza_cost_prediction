{
  "nbformat": 4,
  "nbformat_minor": 0,
  "metadata": {
    "colab": {
      "name": "Pizza_value_prediction",
      "provenance": [],
      "collapsed_sections": [
        "WXjjL8Kopoi1",
        "Q3HsL1KFjovz"
      ]
    },
    "kernelspec": {
      "name": "python3",
      "display_name": "Python 3"
    },
    "language_info": {
      "name": "python"
    }
  },
  "cells": [
    {
      "cell_type": "code",
      "metadata": {
        "id": "oGqMbRnBbkMW",
        "colab": {
          "base_uri": "https://localhost:8080/"
        },
        "outputId": "08d7c4d8-9cfc-4598-9ae8-1754db597349"
      },
      "source": [
        "from google.colab import drive\n",
        "drive.mount('/gdrive/')\n",
        "%cd /gdrive"
      ],
      "execution_count": null,
      "outputs": [
        {
          "output_type": "stream",
          "name": "stdout",
          "text": [
            "Mounted at /gdrive/\n",
            "/gdrive\n"
          ]
        }
      ]
    },
    {
      "cell_type": "code",
      "source": [
        "ls"
      ],
      "metadata": {
        "colab": {
          "base_uri": "https://localhost:8080/"
        },
        "id": "-VNvLWT4d_Qh",
        "outputId": "cb10130e-5acb-4e04-b3cc-1f8f6e418084"
      },
      "execution_count": null,
      "outputs": [
        {
          "output_type": "stream",
          "name": "stdout",
          "text": [
            "\u001b[0m\u001b[01;34mMyDrive\u001b[0m/  \u001b[01;34mShareddrives\u001b[0m/\n"
          ]
        }
      ]
    },
    {
      "cell_type": "code",
      "source": [
        "cd /gdrive/MyDrive/pizza"
      ],
      "metadata": {
        "colab": {
          "base_uri": "https://localhost:8080/"
        },
        "id": "jb6dIiI9eAJW",
        "outputId": "dcbbcd5d-27ad-44bd-d9da-2842f9c25fbc"
      },
      "execution_count": null,
      "outputs": [
        {
          "output_type": "stream",
          "name": "stdout",
          "text": [
            "/gdrive/MyDrive/pizza\n"
          ]
        }
      ]
    },
    {
      "cell_type": "code",
      "source": [
        "ls"
      ],
      "metadata": {
        "colab": {
          "base_uri": "https://localhost:8080/"
        },
        "id": "065Y7OrUejV6",
        "outputId": "d0ed3b27-bd0c-4a28-b764-1a263973fafb"
      },
      "execution_count": null,
      "outputs": [
        {
          "output_type": "stream",
          "name": "stdout",
          "text": [
            "pizza_v1.csv  pizza_v2.csv\n"
          ]
        }
      ]
    },
    {
      "cell_type": "markdown",
      "source": [
        "# Importing Libraries"
      ],
      "metadata": {
        "id": "MECJrfaT22fe"
      }
    },
    {
      "cell_type": "code",
      "source": [
        "import pandas as pd\n",
        "import matplotlib.pyplot as plt\n",
        "import seaborn as sns"
      ],
      "metadata": {
        "id": "X7KiAgSaelXF"
      },
      "execution_count": null,
      "outputs": []
    },
    {
      "cell_type": "code",
      "source": [
        "from sklearn import preprocessing\n",
        "from sklearn.ensemble import RandomForestClassifier as rf\n",
        "import warnings\n",
        "warnings.filterwarnings(\"ignore\")\n",
        "import joblib"
      ],
      "metadata": {
        "id": "U9TKL2oP_miQ"
      },
      "execution_count": null,
      "outputs": []
    },
    {
      "cell_type": "markdown",
      "source": [
        "# Uploading Dataset"
      ],
      "metadata": {
        "id": "M8N0AzjC8x-t"
      }
    },
    {
      "cell_type": "code",
      "source": [
        "df1=pd.read_csv('pizza_v2.csv')\n",
        "df1.head()"
      ],
      "metadata": {
        "colab": {
          "base_uri": "https://localhost:8080/",
          "height": 206
        },
        "id": "JY8toA46ez9w",
        "outputId": "4cc45920-007b-4dc6-ca07-1a66baa923c1"
      },
      "execution_count": null,
      "outputs": [
        {
          "output_type": "execute_result",
          "data": {
            "text/plain": [
              "  company price_rupiah diameter      topping           variant     size  \\\n",
              "0       A    Rp235,000  22 inch      chicken  double_signature    jumbo   \n",
              "1       A    Rp198,000  20 inch    papperoni  double_signature    jumbo   \n",
              "2       A    Rp120,000  16 inch    mushrooms  double_signature  reguler   \n",
              "3       A    Rp155,000  14 inch  smoked_beef  double_signature  reguler   \n",
              "4       A    Rp248,000  18 inch   mozzarella  double_signature    jumbo   \n",
              "\n",
              "  extra_sauce extra_cheese extra_mushrooms  \n",
              "0         yes          yes              no  \n",
              "1         yes          yes              no  \n",
              "2         yes          yes             yes  \n",
              "3         yes           no             yes  \n",
              "4         yes           no             yes  "
            ],
            "text/html": [
              "\n",
              "  <div id=\"df-6e545228-3540-4b84-8c89-5b0d69c6c202\">\n",
              "    <div class=\"colab-df-container\">\n",
              "      <div>\n",
              "<style scoped>\n",
              "    .dataframe tbody tr th:only-of-type {\n",
              "        vertical-align: middle;\n",
              "    }\n",
              "\n",
              "    .dataframe tbody tr th {\n",
              "        vertical-align: top;\n",
              "    }\n",
              "\n",
              "    .dataframe thead th {\n",
              "        text-align: right;\n",
              "    }\n",
              "</style>\n",
              "<table border=\"1\" class=\"dataframe\">\n",
              "  <thead>\n",
              "    <tr style=\"text-align: right;\">\n",
              "      <th></th>\n",
              "      <th>company</th>\n",
              "      <th>price_rupiah</th>\n",
              "      <th>diameter</th>\n",
              "      <th>topping</th>\n",
              "      <th>variant</th>\n",
              "      <th>size</th>\n",
              "      <th>extra_sauce</th>\n",
              "      <th>extra_cheese</th>\n",
              "      <th>extra_mushrooms</th>\n",
              "    </tr>\n",
              "  </thead>\n",
              "  <tbody>\n",
              "    <tr>\n",
              "      <th>0</th>\n",
              "      <td>A</td>\n",
              "      <td>Rp235,000</td>\n",
              "      <td>22 inch</td>\n",
              "      <td>chicken</td>\n",
              "      <td>double_signature</td>\n",
              "      <td>jumbo</td>\n",
              "      <td>yes</td>\n",
              "      <td>yes</td>\n",
              "      <td>no</td>\n",
              "    </tr>\n",
              "    <tr>\n",
              "      <th>1</th>\n",
              "      <td>A</td>\n",
              "      <td>Rp198,000</td>\n",
              "      <td>20 inch</td>\n",
              "      <td>papperoni</td>\n",
              "      <td>double_signature</td>\n",
              "      <td>jumbo</td>\n",
              "      <td>yes</td>\n",
              "      <td>yes</td>\n",
              "      <td>no</td>\n",
              "    </tr>\n",
              "    <tr>\n",
              "      <th>2</th>\n",
              "      <td>A</td>\n",
              "      <td>Rp120,000</td>\n",
              "      <td>16 inch</td>\n",
              "      <td>mushrooms</td>\n",
              "      <td>double_signature</td>\n",
              "      <td>reguler</td>\n",
              "      <td>yes</td>\n",
              "      <td>yes</td>\n",
              "      <td>yes</td>\n",
              "    </tr>\n",
              "    <tr>\n",
              "      <th>3</th>\n",
              "      <td>A</td>\n",
              "      <td>Rp155,000</td>\n",
              "      <td>14 inch</td>\n",
              "      <td>smoked_beef</td>\n",
              "      <td>double_signature</td>\n",
              "      <td>reguler</td>\n",
              "      <td>yes</td>\n",
              "      <td>no</td>\n",
              "      <td>yes</td>\n",
              "    </tr>\n",
              "    <tr>\n",
              "      <th>4</th>\n",
              "      <td>A</td>\n",
              "      <td>Rp248,000</td>\n",
              "      <td>18 inch</td>\n",
              "      <td>mozzarella</td>\n",
              "      <td>double_signature</td>\n",
              "      <td>jumbo</td>\n",
              "      <td>yes</td>\n",
              "      <td>no</td>\n",
              "      <td>yes</td>\n",
              "    </tr>\n",
              "  </tbody>\n",
              "</table>\n",
              "</div>\n",
              "      <button class=\"colab-df-convert\" onclick=\"convertToInteractive('df-6e545228-3540-4b84-8c89-5b0d69c6c202')\"\n",
              "              title=\"Convert this dataframe to an interactive table.\"\n",
              "              style=\"display:none;\">\n",
              "        \n",
              "  <svg xmlns=\"http://www.w3.org/2000/svg\" height=\"24px\"viewBox=\"0 0 24 24\"\n",
              "       width=\"24px\">\n",
              "    <path d=\"M0 0h24v24H0V0z\" fill=\"none\"/>\n",
              "    <path d=\"M18.56 5.44l.94 2.06.94-2.06 2.06-.94-2.06-.94-.94-2.06-.94 2.06-2.06.94zm-11 1L8.5 8.5l.94-2.06 2.06-.94-2.06-.94L8.5 2.5l-.94 2.06-2.06.94zm10 10l.94 2.06.94-2.06 2.06-.94-2.06-.94-.94-2.06-.94 2.06-2.06.94z\"/><path d=\"M17.41 7.96l-1.37-1.37c-.4-.4-.92-.59-1.43-.59-.52 0-1.04.2-1.43.59L10.3 9.45l-7.72 7.72c-.78.78-.78 2.05 0 2.83L4 21.41c.39.39.9.59 1.41.59.51 0 1.02-.2 1.41-.59l7.78-7.78 2.81-2.81c.8-.78.8-2.07 0-2.86zM5.41 20L4 18.59l7.72-7.72 1.47 1.35L5.41 20z\"/>\n",
              "  </svg>\n",
              "      </button>\n",
              "      \n",
              "  <style>\n",
              "    .colab-df-container {\n",
              "      display:flex;\n",
              "      flex-wrap:wrap;\n",
              "      gap: 12px;\n",
              "    }\n",
              "\n",
              "    .colab-df-convert {\n",
              "      background-color: #E8F0FE;\n",
              "      border: none;\n",
              "      border-radius: 50%;\n",
              "      cursor: pointer;\n",
              "      display: none;\n",
              "      fill: #1967D2;\n",
              "      height: 32px;\n",
              "      padding: 0 0 0 0;\n",
              "      width: 32px;\n",
              "    }\n",
              "\n",
              "    .colab-df-convert:hover {\n",
              "      background-color: #E2EBFA;\n",
              "      box-shadow: 0px 1px 2px rgba(60, 64, 67, 0.3), 0px 1px 3px 1px rgba(60, 64, 67, 0.15);\n",
              "      fill: #174EA6;\n",
              "    }\n",
              "\n",
              "    [theme=dark] .colab-df-convert {\n",
              "      background-color: #3B4455;\n",
              "      fill: #D2E3FC;\n",
              "    }\n",
              "\n",
              "    [theme=dark] .colab-df-convert:hover {\n",
              "      background-color: #434B5C;\n",
              "      box-shadow: 0px 1px 3px 1px rgba(0, 0, 0, 0.15);\n",
              "      filter: drop-shadow(0px 1px 2px rgba(0, 0, 0, 0.3));\n",
              "      fill: #FFFFFF;\n",
              "    }\n",
              "  </style>\n",
              "\n",
              "      <script>\n",
              "        const buttonEl =\n",
              "          document.querySelector('#df-6e545228-3540-4b84-8c89-5b0d69c6c202 button.colab-df-convert');\n",
              "        buttonEl.style.display =\n",
              "          google.colab.kernel.accessAllowed ? 'block' : 'none';\n",
              "\n",
              "        async function convertToInteractive(key) {\n",
              "          const element = document.querySelector('#df-6e545228-3540-4b84-8c89-5b0d69c6c202');\n",
              "          const dataTable =\n",
              "            await google.colab.kernel.invokeFunction('convertToInteractive',\n",
              "                                                     [key], {});\n",
              "          if (!dataTable) return;\n",
              "\n",
              "          const docLinkHtml = 'Like what you see? Visit the ' +\n",
              "            '<a target=\"_blank\" href=https://colab.research.google.com/notebooks/data_table.ipynb>data table notebook</a>'\n",
              "            + ' to learn more about interactive tables.';\n",
              "          element.innerHTML = '';\n",
              "          dataTable['output_type'] = 'display_data';\n",
              "          await google.colab.output.renderOutput(dataTable, element);\n",
              "          const docLink = document.createElement('div');\n",
              "          docLink.innerHTML = docLinkHtml;\n",
              "          element.appendChild(docLink);\n",
              "        }\n",
              "      </script>\n",
              "    </div>\n",
              "  </div>\n",
              "  "
            ]
          },
          "metadata": {},
          "execution_count": 49
        }
      ]
    },
    {
      "cell_type": "code",
      "source": [
        "df=pd.read_csv('pizza_v1.csv')\n",
        "df.head()"
      ],
      "metadata": {
        "colab": {
          "base_uri": "https://localhost:8080/",
          "height": 206
        },
        "id": "A62R6DYKOGSX",
        "outputId": "68af3cd9-a47c-408f-bd8d-79460f124c47"
      },
      "execution_count": null,
      "outputs": [
        {
          "output_type": "execute_result",
          "data": {
            "text/plain": [
              "  company price_rupiah  diameter      topping           variant     size  \\\n",
              "0       A    Rp235,000      22.0      chicken  double_signature    jumbo   \n",
              "1       A    Rp198,000      20.0    papperoni  double_signature    jumbo   \n",
              "2       A    Rp120,000      16.0    mushrooms  double_signature  reguler   \n",
              "3       A    Rp155,000      14.0  smoked beef  double_signature  reguler   \n",
              "4       A    Rp248,000      18.0   mozzarella  double_signature    jumbo   \n",
              "\n",
              "  extra_sauce extra_cheese  \n",
              "0         yes          yes  \n",
              "1         yes          yes  \n",
              "2         yes          yes  \n",
              "3         yes           no  \n",
              "4         yes           no  "
            ],
            "text/html": [
              "\n",
              "  <div id=\"df-5193fc1e-9e17-44f8-8175-dc9fccf6dbaf\">\n",
              "    <div class=\"colab-df-container\">\n",
              "      <div>\n",
              "<style scoped>\n",
              "    .dataframe tbody tr th:only-of-type {\n",
              "        vertical-align: middle;\n",
              "    }\n",
              "\n",
              "    .dataframe tbody tr th {\n",
              "        vertical-align: top;\n",
              "    }\n",
              "\n",
              "    .dataframe thead th {\n",
              "        text-align: right;\n",
              "    }\n",
              "</style>\n",
              "<table border=\"1\" class=\"dataframe\">\n",
              "  <thead>\n",
              "    <tr style=\"text-align: right;\">\n",
              "      <th></th>\n",
              "      <th>company</th>\n",
              "      <th>price_rupiah</th>\n",
              "      <th>diameter</th>\n",
              "      <th>topping</th>\n",
              "      <th>variant</th>\n",
              "      <th>size</th>\n",
              "      <th>extra_sauce</th>\n",
              "      <th>extra_cheese</th>\n",
              "    </tr>\n",
              "  </thead>\n",
              "  <tbody>\n",
              "    <tr>\n",
              "      <th>0</th>\n",
              "      <td>A</td>\n",
              "      <td>Rp235,000</td>\n",
              "      <td>22.0</td>\n",
              "      <td>chicken</td>\n",
              "      <td>double_signature</td>\n",
              "      <td>jumbo</td>\n",
              "      <td>yes</td>\n",
              "      <td>yes</td>\n",
              "    </tr>\n",
              "    <tr>\n",
              "      <th>1</th>\n",
              "      <td>A</td>\n",
              "      <td>Rp198,000</td>\n",
              "      <td>20.0</td>\n",
              "      <td>papperoni</td>\n",
              "      <td>double_signature</td>\n",
              "      <td>jumbo</td>\n",
              "      <td>yes</td>\n",
              "      <td>yes</td>\n",
              "    </tr>\n",
              "    <tr>\n",
              "      <th>2</th>\n",
              "      <td>A</td>\n",
              "      <td>Rp120,000</td>\n",
              "      <td>16.0</td>\n",
              "      <td>mushrooms</td>\n",
              "      <td>double_signature</td>\n",
              "      <td>reguler</td>\n",
              "      <td>yes</td>\n",
              "      <td>yes</td>\n",
              "    </tr>\n",
              "    <tr>\n",
              "      <th>3</th>\n",
              "      <td>A</td>\n",
              "      <td>Rp155,000</td>\n",
              "      <td>14.0</td>\n",
              "      <td>smoked beef</td>\n",
              "      <td>double_signature</td>\n",
              "      <td>reguler</td>\n",
              "      <td>yes</td>\n",
              "      <td>no</td>\n",
              "    </tr>\n",
              "    <tr>\n",
              "      <th>4</th>\n",
              "      <td>A</td>\n",
              "      <td>Rp248,000</td>\n",
              "      <td>18.0</td>\n",
              "      <td>mozzarella</td>\n",
              "      <td>double_signature</td>\n",
              "      <td>jumbo</td>\n",
              "      <td>yes</td>\n",
              "      <td>no</td>\n",
              "    </tr>\n",
              "  </tbody>\n",
              "</table>\n",
              "</div>\n",
              "      <button class=\"colab-df-convert\" onclick=\"convertToInteractive('df-5193fc1e-9e17-44f8-8175-dc9fccf6dbaf')\"\n",
              "              title=\"Convert this dataframe to an interactive table.\"\n",
              "              style=\"display:none;\">\n",
              "        \n",
              "  <svg xmlns=\"http://www.w3.org/2000/svg\" height=\"24px\"viewBox=\"0 0 24 24\"\n",
              "       width=\"24px\">\n",
              "    <path d=\"M0 0h24v24H0V0z\" fill=\"none\"/>\n",
              "    <path d=\"M18.56 5.44l.94 2.06.94-2.06 2.06-.94-2.06-.94-.94-2.06-.94 2.06-2.06.94zm-11 1L8.5 8.5l.94-2.06 2.06-.94-2.06-.94L8.5 2.5l-.94 2.06-2.06.94zm10 10l.94 2.06.94-2.06 2.06-.94-2.06-.94-.94-2.06-.94 2.06-2.06.94z\"/><path d=\"M17.41 7.96l-1.37-1.37c-.4-.4-.92-.59-1.43-.59-.52 0-1.04.2-1.43.59L10.3 9.45l-7.72 7.72c-.78.78-.78 2.05 0 2.83L4 21.41c.39.39.9.59 1.41.59.51 0 1.02-.2 1.41-.59l7.78-7.78 2.81-2.81c.8-.78.8-2.07 0-2.86zM5.41 20L4 18.59l7.72-7.72 1.47 1.35L5.41 20z\"/>\n",
              "  </svg>\n",
              "      </button>\n",
              "      \n",
              "  <style>\n",
              "    .colab-df-container {\n",
              "      display:flex;\n",
              "      flex-wrap:wrap;\n",
              "      gap: 12px;\n",
              "    }\n",
              "\n",
              "    .colab-df-convert {\n",
              "      background-color: #E8F0FE;\n",
              "      border: none;\n",
              "      border-radius: 50%;\n",
              "      cursor: pointer;\n",
              "      display: none;\n",
              "      fill: #1967D2;\n",
              "      height: 32px;\n",
              "      padding: 0 0 0 0;\n",
              "      width: 32px;\n",
              "    }\n",
              "\n",
              "    .colab-df-convert:hover {\n",
              "      background-color: #E2EBFA;\n",
              "      box-shadow: 0px 1px 2px rgba(60, 64, 67, 0.3), 0px 1px 3px 1px rgba(60, 64, 67, 0.15);\n",
              "      fill: #174EA6;\n",
              "    }\n",
              "\n",
              "    [theme=dark] .colab-df-convert {\n",
              "      background-color: #3B4455;\n",
              "      fill: #D2E3FC;\n",
              "    }\n",
              "\n",
              "    [theme=dark] .colab-df-convert:hover {\n",
              "      background-color: #434B5C;\n",
              "      box-shadow: 0px 1px 3px 1px rgba(0, 0, 0, 0.15);\n",
              "      filter: drop-shadow(0px 1px 2px rgba(0, 0, 0, 0.3));\n",
              "      fill: #FFFFFF;\n",
              "    }\n",
              "  </style>\n",
              "\n",
              "      <script>\n",
              "        const buttonEl =\n",
              "          document.querySelector('#df-5193fc1e-9e17-44f8-8175-dc9fccf6dbaf button.colab-df-convert');\n",
              "        buttonEl.style.display =\n",
              "          google.colab.kernel.accessAllowed ? 'block' : 'none';\n",
              "\n",
              "        async function convertToInteractive(key) {\n",
              "          const element = document.querySelector('#df-5193fc1e-9e17-44f8-8175-dc9fccf6dbaf');\n",
              "          const dataTable =\n",
              "            await google.colab.kernel.invokeFunction('convertToInteractive',\n",
              "                                                     [key], {});\n",
              "          if (!dataTable) return;\n",
              "\n",
              "          const docLinkHtml = 'Like what you see? Visit the ' +\n",
              "            '<a target=\"_blank\" href=https://colab.research.google.com/notebooks/data_table.ipynb>data table notebook</a>'\n",
              "            + ' to learn more about interactive tables.';\n",
              "          element.innerHTML = '';\n",
              "          dataTable['output_type'] = 'display_data';\n",
              "          await google.colab.output.renderOutput(dataTable, element);\n",
              "          const docLink = document.createElement('div');\n",
              "          docLink.innerHTML = docLinkHtml;\n",
              "          element.appendChild(docLink);\n",
              "        }\n",
              "      </script>\n",
              "    </div>\n",
              "  </div>\n",
              "  "
            ]
          },
          "metadata": {},
          "execution_count": 50
        }
      ]
    },
    {
      "cell_type": "code",
      "source": [
        "df.info()"
      ],
      "metadata": {
        "colab": {
          "base_uri": "https://localhost:8080/"
        },
        "id": "1h0Qu2MfvkYg",
        "outputId": "6911f49e-3155-400f-bbdf-72b49057b025"
      },
      "execution_count": null,
      "outputs": [
        {
          "output_type": "stream",
          "name": "stdout",
          "text": [
            "<class 'pandas.core.frame.DataFrame'>\n",
            "RangeIndex: 129 entries, 0 to 128\n",
            "Data columns (total 8 columns):\n",
            " #   Column        Non-Null Count  Dtype  \n",
            "---  ------        --------------  -----  \n",
            " 0   company       129 non-null    object \n",
            " 1   price_rupiah  129 non-null    object \n",
            " 2   diameter      129 non-null    float64\n",
            " 3   topping       129 non-null    object \n",
            " 4   variant       129 non-null    object \n",
            " 5   size          129 non-null    object \n",
            " 6   extra_sauce   129 non-null    object \n",
            " 7   extra_cheese  129 non-null    object \n",
            "dtypes: float64(1), object(7)\n",
            "memory usage: 8.2+ KB\n"
          ]
        }
      ]
    },
    {
      "cell_type": "code",
      "source": [
        "df.describe()"
      ],
      "metadata": {
        "colab": {
          "base_uri": "https://localhost:8080/",
          "height": 300
        },
        "id": "26AcgnO_Qrt5",
        "outputId": "af22e660-f120-42f6-a6a7-5a351c40ce0e"
      },
      "execution_count": null,
      "outputs": [
        {
          "output_type": "execute_result",
          "data": {
            "text/plain": [
              "         diameter\n",
              "count  129.000000\n",
              "mean    12.976744\n",
              "std      3.272674\n",
              "min      8.000000\n",
              "25%     12.000000\n",
              "50%     12.000000\n",
              "75%     14.000000\n",
              "max     22.000000"
            ],
            "text/html": [
              "\n",
              "  <div id=\"df-d7c24c05-e891-4905-8a3e-2d1b67dd0dab\">\n",
              "    <div class=\"colab-df-container\">\n",
              "      <div>\n",
              "<style scoped>\n",
              "    .dataframe tbody tr th:only-of-type {\n",
              "        vertical-align: middle;\n",
              "    }\n",
              "\n",
              "    .dataframe tbody tr th {\n",
              "        vertical-align: top;\n",
              "    }\n",
              "\n",
              "    .dataframe thead th {\n",
              "        text-align: right;\n",
              "    }\n",
              "</style>\n",
              "<table border=\"1\" class=\"dataframe\">\n",
              "  <thead>\n",
              "    <tr style=\"text-align: right;\">\n",
              "      <th></th>\n",
              "      <th>diameter</th>\n",
              "    </tr>\n",
              "  </thead>\n",
              "  <tbody>\n",
              "    <tr>\n",
              "      <th>count</th>\n",
              "      <td>129.000000</td>\n",
              "    </tr>\n",
              "    <tr>\n",
              "      <th>mean</th>\n",
              "      <td>12.976744</td>\n",
              "    </tr>\n",
              "    <tr>\n",
              "      <th>std</th>\n",
              "      <td>3.272674</td>\n",
              "    </tr>\n",
              "    <tr>\n",
              "      <th>min</th>\n",
              "      <td>8.000000</td>\n",
              "    </tr>\n",
              "    <tr>\n",
              "      <th>25%</th>\n",
              "      <td>12.000000</td>\n",
              "    </tr>\n",
              "    <tr>\n",
              "      <th>50%</th>\n",
              "      <td>12.000000</td>\n",
              "    </tr>\n",
              "    <tr>\n",
              "      <th>75%</th>\n",
              "      <td>14.000000</td>\n",
              "    </tr>\n",
              "    <tr>\n",
              "      <th>max</th>\n",
              "      <td>22.000000</td>\n",
              "    </tr>\n",
              "  </tbody>\n",
              "</table>\n",
              "</div>\n",
              "      <button class=\"colab-df-convert\" onclick=\"convertToInteractive('df-d7c24c05-e891-4905-8a3e-2d1b67dd0dab')\"\n",
              "              title=\"Convert this dataframe to an interactive table.\"\n",
              "              style=\"display:none;\">\n",
              "        \n",
              "  <svg xmlns=\"http://www.w3.org/2000/svg\" height=\"24px\"viewBox=\"0 0 24 24\"\n",
              "       width=\"24px\">\n",
              "    <path d=\"M0 0h24v24H0V0z\" fill=\"none\"/>\n",
              "    <path d=\"M18.56 5.44l.94 2.06.94-2.06 2.06-.94-2.06-.94-.94-2.06-.94 2.06-2.06.94zm-11 1L8.5 8.5l.94-2.06 2.06-.94-2.06-.94L8.5 2.5l-.94 2.06-2.06.94zm10 10l.94 2.06.94-2.06 2.06-.94-2.06-.94-.94-2.06-.94 2.06-2.06.94z\"/><path d=\"M17.41 7.96l-1.37-1.37c-.4-.4-.92-.59-1.43-.59-.52 0-1.04.2-1.43.59L10.3 9.45l-7.72 7.72c-.78.78-.78 2.05 0 2.83L4 21.41c.39.39.9.59 1.41.59.51 0 1.02-.2 1.41-.59l7.78-7.78 2.81-2.81c.8-.78.8-2.07 0-2.86zM5.41 20L4 18.59l7.72-7.72 1.47 1.35L5.41 20z\"/>\n",
              "  </svg>\n",
              "      </button>\n",
              "      \n",
              "  <style>\n",
              "    .colab-df-container {\n",
              "      display:flex;\n",
              "      flex-wrap:wrap;\n",
              "      gap: 12px;\n",
              "    }\n",
              "\n",
              "    .colab-df-convert {\n",
              "      background-color: #E8F0FE;\n",
              "      border: none;\n",
              "      border-radius: 50%;\n",
              "      cursor: pointer;\n",
              "      display: none;\n",
              "      fill: #1967D2;\n",
              "      height: 32px;\n",
              "      padding: 0 0 0 0;\n",
              "      width: 32px;\n",
              "    }\n",
              "\n",
              "    .colab-df-convert:hover {\n",
              "      background-color: #E2EBFA;\n",
              "      box-shadow: 0px 1px 2px rgba(60, 64, 67, 0.3), 0px 1px 3px 1px rgba(60, 64, 67, 0.15);\n",
              "      fill: #174EA6;\n",
              "    }\n",
              "\n",
              "    [theme=dark] .colab-df-convert {\n",
              "      background-color: #3B4455;\n",
              "      fill: #D2E3FC;\n",
              "    }\n",
              "\n",
              "    [theme=dark] .colab-df-convert:hover {\n",
              "      background-color: #434B5C;\n",
              "      box-shadow: 0px 1px 3px 1px rgba(0, 0, 0, 0.15);\n",
              "      filter: drop-shadow(0px 1px 2px rgba(0, 0, 0, 0.3));\n",
              "      fill: #FFFFFF;\n",
              "    }\n",
              "  </style>\n",
              "\n",
              "      <script>\n",
              "        const buttonEl =\n",
              "          document.querySelector('#df-d7c24c05-e891-4905-8a3e-2d1b67dd0dab button.colab-df-convert');\n",
              "        buttonEl.style.display =\n",
              "          google.colab.kernel.accessAllowed ? 'block' : 'none';\n",
              "\n",
              "        async function convertToInteractive(key) {\n",
              "          const element = document.querySelector('#df-d7c24c05-e891-4905-8a3e-2d1b67dd0dab');\n",
              "          const dataTable =\n",
              "            await google.colab.kernel.invokeFunction('convertToInteractive',\n",
              "                                                     [key], {});\n",
              "          if (!dataTable) return;\n",
              "\n",
              "          const docLinkHtml = 'Like what you see? Visit the ' +\n",
              "            '<a target=\"_blank\" href=https://colab.research.google.com/notebooks/data_table.ipynb>data table notebook</a>'\n",
              "            + ' to learn more about interactive tables.';\n",
              "          element.innerHTML = '';\n",
              "          dataTable['output_type'] = 'display_data';\n",
              "          await google.colab.output.renderOutput(dataTable, element);\n",
              "          const docLink = document.createElement('div');\n",
              "          docLink.innerHTML = docLinkHtml;\n",
              "          element.appendChild(docLink);\n",
              "        }\n",
              "      </script>\n",
              "    </div>\n",
              "  </div>\n",
              "  "
            ]
          },
          "metadata": {},
          "execution_count": 52
        }
      ]
    },
    {
      "cell_type": "markdown",
      "source": [
        "# EDA"
      ],
      "metadata": {
        "id": "X0ky4LRt88QU"
      }
    },
    {
      "cell_type": "code",
      "source": [
        "df.isna().sum()"
      ],
      "metadata": {
        "colab": {
          "base_uri": "https://localhost:8080/"
        },
        "id": "uYniR82xinQt",
        "outputId": "05f192d7-6da9-4785-8853-6b30eb4882fe"
      },
      "execution_count": null,
      "outputs": [
        {
          "output_type": "execute_result",
          "data": {
            "text/plain": [
              "company         0\n",
              "price_rupiah    0\n",
              "diameter        0\n",
              "topping         0\n",
              "variant         0\n",
              "size            0\n",
              "extra_sauce     0\n",
              "extra_cheese    0\n",
              "dtype: int64"
            ]
          },
          "metadata": {},
          "execution_count": 53
        }
      ]
    },
    {
      "cell_type": "code",
      "source": [
        "df.columns"
      ],
      "metadata": {
        "colab": {
          "base_uri": "https://localhost:8080/"
        },
        "id": "WKewTr_juCGU",
        "outputId": "fe85df43-6282-4591-d2ae-5afcb5b63df4"
      },
      "execution_count": null,
      "outputs": [
        {
          "output_type": "execute_result",
          "data": {
            "text/plain": [
              "Index(['company', 'price_rupiah', 'diameter', 'topping', 'variant', 'size',\n",
              "       'extra_sauce', 'extra_cheese'],\n",
              "      dtype='object')"
            ]
          },
          "metadata": {},
          "execution_count": 54
        }
      ]
    },
    {
      "cell_type": "code",
      "source": [
        "columns = df.columns\n",
        "binary_cols = []\n",
        "\n",
        "for col in columns:\n",
        "    if df[col].value_counts().shape[0] == 2:\n",
        "        binary_cols.append(col)"
      ],
      "metadata": {
        "id": "6ezbE_jBkBYo"
      },
      "execution_count": null,
      "outputs": []
    },
    {
      "cell_type": "code",
      "source": [
        "binary_cols"
      ],
      "metadata": {
        "colab": {
          "base_uri": "https://localhost:8080/"
        },
        "id": "aSPZVqdyN3nC",
        "outputId": "09a67ef5-f279-4e14-e7ff-ebfed36637d8"
      },
      "execution_count": null,
      "outputs": [
        {
          "output_type": "execute_result",
          "data": {
            "text/plain": [
              "['extra_sauce', 'extra_cheese', 'extra_mushrooms']"
            ]
          },
          "metadata": {},
          "execution_count": 57
        }
      ]
    },
    {
      "cell_type": "code",
      "source": [
        "sns.countplot(\"company\", data=df)"
      ],
      "metadata": {
        "colab": {
          "base_uri": "https://localhost:8080/",
          "height": 535
        },
        "id": "GH3kFKP4T0sD",
        "outputId": "b31a31bd-e267-4924-f42b-29890ea43860"
      },
      "execution_count": null,
      "outputs": [
        {
          "output_type": "execute_result",
          "data": {
            "text/plain": [
              "<matplotlib.axes._subplots.AxesSubplot at 0x7f5b9ba3ae50>"
            ]
          },
          "metadata": {},
          "execution_count": 58
        },
        {
          "output_type": "display_data",
          "data": {
            "text/plain": [
              "<Figure size 842.4x595.44 with 1 Axes>"
            ],
            "image/png": "[encoded data removed]"
          },
          "metadata": {}
        }
      ]
    },
    {
      "cell_type": "code",
      "source": [
        "company_numeric = {'A':0, 'B':1, 'C':2,'D':3,'E':4}\n",
        "df.company.replace(company_numeric, inplace=True)"
      ],
      "metadata": {
        "id": "to8iTy94Rxpw"
      },
      "execution_count": null,
      "outputs": []
    },
    {
      "cell_type": "code",
      "source": [
        "extra_sauce_numeric = {'yes':1, 'no':0}\n",
        "df.extra_sauce.replace(extra_sauce_numeric, inplace=True)"
      ],
      "metadata": {
        "id": "AmJOqH0qxsK5"
      },
      "execution_count": null,
      "outputs": []
    },
    {
      "cell_type": "code",
      "source": [
        "sns.countplot(\"extra_sauce\", data=df)"
      ],
      "metadata": {
        "colab": {
          "base_uri": "https://localhost:8080/",
          "height": 535
        },
        "id": "BqYHe-iOPAPg",
        "outputId": "1bbf8629-afcb-44dc-9a4a-ec0039f0b2cd"
      },
      "execution_count": null,
      "outputs": [
        {
          "output_type": "execute_result",
          "data": {
            "text/plain": [
              "<matplotlib.axes._subplots.AxesSubplot at 0x7f5b9ba3a050>"
            ]
          },
          "metadata": {},
          "execution_count": 61
        },
        {
          "output_type": "display_data",
          "data": {
            "text/plain": [
              "<Figure size 842.4x595.44 with 1 Axes>"
            ],
            "image/png": "[encoded data removed]"
          },
          "metadata": {}
        }
      ]
    },
    {
      "cell_type": "code",
      "source": [
        "extra_cheese_numeric = {'yes':1, 'no':0}\n",
        "df.extra_cheese.replace(extra_cheese_numeric, inplace=True)"
      ],
      "metadata": {
        "id": "pbazcPI5OxcM"
      },
      "execution_count": null,
      "outputs": []
    },
    {
      "cell_type": "code",
      "source": [
        "corrmat = df.corr()\n",
        "fig = plt.figure(figsize = (12, 9))\n",
        "sns.heatmap(corrmat, vmax = .8, square = True)\n",
        "plt.show()"
      ],
      "metadata": {
        "colab": {
          "base_uri": "https://localhost:8080/",
          "height": 545
        },
        "id": "sY77f2Bqibnw",
        "outputId": "a8d747f2-cc23-49dc-bfc6-92033eeefc42"
      },
      "execution_count": null,
      "outputs": [
        {
          "output_type": "display_data",
          "data": {
            "text/plain": [
              "<Figure size 864x648 with 2 Axes>"
            ],
            "image/png": "[encoded data removed]"
          },
          "metadata": {}
        }
      ]
    },
    {
      "cell_type": "code",
      "source": [
        "sns.set(rc={'figure.figsize':(11.7,8.27)})\n",
        "cData_attr = df.iloc[:, 0:7]\n",
        "sns.pairplot(cData_attr, diag_kind='kde')   "
      ],
      "metadata": {
        "colab": {
          "base_uri": "https://localhost:8080/",
          "height": 566
        },
        "id": "1G1E34rAnGdb",
        "outputId": "ec4d7d21-15d3-45c0-c069-2135c940588a"
      },
      "execution_count": null,
      "outputs": [
        {
          "output_type": "execute_result",
          "data": {
            "text/plain": [
              "<seaborn.axisgrid.PairGrid at 0x7f5b9bdbab50>"
            ]
          },
          "metadata": {},
          "execution_count": 65
        },
        {
          "output_type": "display_data",
          "data": {
            "text/plain": [
              "<Figure size 540x540 with 12 Axes>"
            ],
            "image/png": "[encoded data removed]"
          },
          "metadata": {}
        }
      ]
    },
    {
      "cell_type": "code",
      "source": [
        "X = df.drop(['price_rupiah', 'topping', 'variant', 'size'], axis = 1)\n",
        "Y = df[\"price_rupiah\"]\n",
        "x_Data = X.values\n",
        "y_Data = Y.values"
      ],
      "metadata": {
        "id": "J3HRJ44Fvzus"
      },
      "execution_count": null,
      "outputs": []
    },
    {
      "cell_type": "code",
      "source": [
        "from sklearn.model_selection import train_test_split"
      ],
      "metadata": {
        "id": "AK8Lh_Z52fSj"
      },
      "execution_count": null,
      "outputs": []
    },
    {
      "cell_type": "code",
      "source": [
        "X_train, X_test, y_train, y_test = train_test_split(x_Data, y_Data, test_size = 0.2, random_state = 42)"
      ],
      "metadata": {
        "id": "3tDiKMg1w-V0"
      },
      "execution_count": null,
      "outputs": []
    },
    {
      "cell_type": "markdown",
      "source": [
        "# Naive Bayes"
      ],
      "metadata": {
        "id": "DDGUQJQI2bQJ"
      }
    },
    {
      "cell_type": "code",
      "source": [
        "from sklearn.naive_bayes import GaussianNB\n",
        "model = GaussianNB()\n",
        "model.fit(X_train,y_train)"
      ],
      "metadata": {
        "colab": {
          "base_uri": "https://localhost:8080/"
        },
        "id": "BYuyLfKX3A3t",
        "outputId": "d33fd315-50c8-45e2-905a-7d0dd88b9c3e"
      },
      "execution_count": null,
      "outputs": [
        {
          "output_type": "execute_result",
          "data": {
            "text/plain": [
              "GaussianNB()"
            ]
          },
          "metadata": {},
          "execution_count": 69
        }
      ]
    },
    {
      "cell_type": "code",
      "source": [
        "model.score(X_test,y_test)"
      ],
      "metadata": {
        "colab": {
          "base_uri": "https://localhost:8080/"
        },
        "id": "iy_kQRAi3A02",
        "outputId": "95dd3c67-aa92-406c-dab3-bf71cab09192"
      },
      "execution_count": null,
      "outputs": [
        {
          "output_type": "execute_result",
          "data": {
            "text/plain": [
              "0.15384615384615385"
            ]
          },
          "metadata": {},
          "execution_count": 70
        }
      ]
    },
    {
      "cell_type": "code",
      "source": [
        "from sklearn.model_selection import cross_val_score\n",
        "print(cross_val_score(GaussianNB(),X_train, y_train, cv=5))"
      ],
      "metadata": {
        "colab": {
          "base_uri": "https://localhost:8080/"
        },
        "id": "-Cqyx2Uf3ZOr",
        "outputId": "52ba9d19-c871-4504-e7a2-6e508add041b"
      },
      "execution_count": null,
      "outputs": [
        {
          "output_type": "stream",
          "name": "stdout",
          "text": [
            "[0.28571429 0.33333333 0.23809524 0.2        0.15      ]\n"
          ]
        }
      ]
    },
    {
      "cell_type": "code",
      "source": [
        "from sklearn.metrics import accuracy_score\n",
        "from sklearn.metrics import confusion_matrix"
      ],
      "metadata": {
        "id": "YLM1_VL-xAgU"
      },
      "execution_count": null,
      "outputs": []
    },
    {
      "cell_type": "code",
      "source": [
        "pred = model.predict(X_train) \n",
        "accuracy_score(y_train, pred)"
      ],
      "metadata": {
        "colab": {
          "base_uri": "https://localhost:8080/"
        },
        "id": "Yyhvsl9rxRwa",
        "outputId": "3023da3d-9c3f-4431-d593-5f76f3bd2426"
      },
      "execution_count": null,
      "outputs": [
        {
          "output_type": "execute_result",
          "data": {
            "text/plain": [
              "0.5631067961165048"
            ]
          },
          "metadata": {},
          "execution_count": 73
        }
      ]
    },
    {
      "cell_type": "code",
      "source": [
        "confusion_matrix(y_train, pred)"
      ],
      "metadata": {
        "colab": {
          "base_uri": "https://localhost:8080/"
        },
        "id": "_44fUQ1NxXm1",
        "outputId": "fccb44ea-880e-4fe3-ad3f-0e56e3fc21fd"
      },
      "execution_count": null,
      "outputs": [
        {
          "output_type": "execute_result",
          "data": {
            "text/plain": [
              "array([[2, 0, 0, ..., 0, 0, 0],\n",
              "       [0, 2, 0, ..., 0, 0, 0],\n",
              "       [0, 0, 2, ..., 0, 0, 0],\n",
              "       ...,\n",
              "       [0, 0, 0, ..., 3, 0, 0],\n",
              "       [1, 0, 0, ..., 0, 0, 0],\n",
              "       [1, 0, 1, ..., 0, 0, 0]])"
            ]
          },
          "metadata": {},
          "execution_count": 74
        }
      ]
    },
    {
      "cell_type": "code",
      "source": [
        "predicted_test = model.predict(X_test)\n",
        "p=accuracy_score(y_test, predicted_test)"
      ],
      "metadata": {
        "id": "zHx3D7pexY6p"
      },
      "execution_count": null,
      "outputs": []
    },
    {
      "cell_type": "code",
      "source": [
        "from sklearn.metrics import precision_score, recall_score, confusion_matrix, classification_report, accuracy_score, f1_score"
      ],
      "metadata": {
        "id": "STI9ZOi_5mtG"
      },
      "execution_count": null,
      "outputs": []
    },
    {
      "cell_type": "code",
      "source": [
        "print(classification_report(y_test, predicted_test))"
      ],
      "metadata": {
        "colab": {
          "base_uri": "https://localhost:8080/"
        },
        "id": "SBBxEQll5nWM",
        "outputId": "245b8e9c-0829-479f-dff3-8e0cb495823a"
      },
      "execution_count": null,
      "outputs": [
        {
          "output_type": "stream",
          "name": "stdout",
          "text": [
            "              precision    recall  f1-score   support\n",
            "\n",
            "   Rp110,000       0.00      0.00      0.00         2\n",
            "   Rp114,000       0.00      0.00      0.00         0\n",
            "   Rp120,000       0.00      0.00      0.00         0\n",
            "   Rp123,000       0.00      0.00      0.00         1\n",
            "   Rp126,500       0.00      0.00      0.00         0\n",
            "   Rp140,000       1.00      1.00      1.00         1\n",
            "    Rp23,500       0.00      0.00      0.00         1\n",
            "   Rp230,000       0.00      0.00      0.00         1\n",
            "   Rp248,000       0.00      0.00      0.00         1\n",
            "    Rp28,000       0.00      0.00      0.00         0\n",
            "    Rp31,000       0.00      0.00      0.00         2\n",
            "    Rp39,000       0.00      0.00      0.00         2\n",
            "    Rp44,000       0.00      0.00      0.00         1\n",
            "    Rp46,000       0.00      0.00      0.00         2\n",
            "    Rp54,000       0.00      0.00      0.00         0\n",
            "    Rp69,000       0.00      0.00      0.00         0\n",
            "    Rp70,000       0.00      0.00      0.00         1\n",
            "    Rp72,000       0.50      0.25      0.33         4\n",
            "    Rp75,000       0.00      0.00      0.00         0\n",
            "    Rp76,000       0.00      0.00      0.00         1\n",
            "    Rp78,000       0.00      0.00      0.00         0\n",
            "    Rp83,000       1.00      1.00      1.00         1\n",
            "    Rp84,000       0.00      0.00      0.00         1\n",
            "    Rp90,000       0.00      0.00      0.00         2\n",
            "    Rp92,000       0.00      0.00      0.00         0\n",
            "    Rp93,000       1.00      1.00      1.00         1\n",
            "    Rp96,000       0.00      0.00      0.00         1\n",
            "\n",
            "    accuracy                           0.15        26\n",
            "   macro avg       0.13      0.12      0.12        26\n",
            "weighted avg       0.19      0.15      0.17        26\n",
            "\n"
          ]
        }
      ]
    },
    {
      "cell_type": "code",
      "source": [
        "cma = confusion_matrix(y_test, predicted_test)"
      ],
      "metadata": {
        "id": "fo70sDGJ40Xy"
      },
      "execution_count": null,
      "outputs": []
    },
    {
      "cell_type": "code",
      "source": [
        "fig, ax = plt.subplots(figsize=(5, 5))\n",
        "ax.matshow(cma, cmap=plt.cm.Blues, alpha=0.3)\n",
        "for i in range(cma.shape[0]):\n",
        "    for j in range(cma.shape[1]):\n",
        "        ax.text(x=j, y=i,s=cma[i, j], va='center', ha='center', size='xx-large')\n",
        " \n",
        "plt.xlabel('Predictions', fontsize=18)\n",
        "plt.ylabel('Actuals', fontsize=18)\n",
        "plt.title('Confusion Matrix', fontsize=18)\n",
        "plt.show()"
      ],
      "metadata": {
        "colab": {
          "base_uri": "https://localhost:8080/",
          "height": 358
        },
        "id": "fUujs5aj44xb",
        "outputId": "42262466-48e4-4f99-ffe1-ac1303864074"
      },
      "execution_count": null,
      "outputs": [
        {
          "output_type": "display_data",
          "data": {
            "text/plain": [
              "<Figure size 360x360 with 1 Axes>"
            ],
            "image/png": "[encoded data removed]"
          },
          "metadata": {}
        }
      ]
    },
    {
      "cell_type": "markdown",
      "source": [
        "# Random forest Classifier"
      ],
      "metadata": {
        "id": "ER14c1sn5NJM"
      }
    },
    {
      "cell_type": "code",
      "source": [
        "clf_forest = rf(n_estimators=100, max_depth=10)\n",
        "clf_forest.fit(X_train, y_train)"
      ],
      "metadata": {
        "colab": {
          "base_uri": "https://localhost:8080/"
        },
        "id": "shJxzWABxbsI",
        "outputId": "03510542-23aa-4a51-cf91-7743a92bad47"
      },
      "execution_count": null,
      "outputs": [
        {
          "output_type": "execute_result",
          "data": {
            "text/plain": [
              "RandomForestClassifier(max_depth=10)"
            ]
          },
          "metadata": {},
          "execution_count": 80
        }
      ]
    },
    {
      "cell_type": "code",
      "source": [
        "pred = clf_forest.predict(X_train)\n",
        "accuracy_score(y_train, pred)"
      ],
      "metadata": {
        "colab": {
          "base_uri": "https://localhost:8080/"
        },
        "id": "rKWPnnwOxjkX",
        "outputId": "6d9e7977-8196-4ae8-cdab-43738a7e414e"
      },
      "execution_count": null,
      "outputs": [
        {
          "output_type": "execute_result",
          "data": {
            "text/plain": [
              "0.7087378640776699"
            ]
          },
          "metadata": {},
          "execution_count": 81
        }
      ]
    },
    {
      "cell_type": "code",
      "source": [
        "confusion_matrix(y_train, pred)"
      ],
      "metadata": {
        "colab": {
          "base_uri": "https://localhost:8080/"
        },
        "id": "Flpe89ZFxoUD",
        "outputId": "15a9491b-ec50-440b-aeb0-9e0e56051556"
      },
      "execution_count": null,
      "outputs": [
        {
          "output_type": "execute_result",
          "data": {
            "text/plain": [
              "array([[0, 0, 0, ..., 0, 1, 1],\n",
              "       [0, 2, 0, ..., 0, 0, 0],\n",
              "       [0, 0, 2, ..., 0, 0, 0],\n",
              "       ...,\n",
              "       [0, 0, 0, ..., 3, 0, 0],\n",
              "       [0, 0, 0, ..., 0, 3, 0],\n",
              "       [0, 0, 0, ..., 0, 1, 2]])"
            ]
          },
          "metadata": {},
          "execution_count": 82
        }
      ]
    },
    {
      "cell_type": "code",
      "source": [
        "pred_test = clf_forest.predict(X_test)\n",
        "q=accuracy_score(y_test, pred_test)"
      ],
      "metadata": {
        "id": "8rlcR7LAxrJX"
      },
      "execution_count": null,
      "outputs": []
    },
    {
      "cell_type": "code",
      "source": [
        "from sklearn.metrics import precision_score, recall_score, confusion_matrix, classification_report, accuracy_score, f1_score"
      ],
      "metadata": {
        "id": "jvCb5EHXyC17"
      },
      "execution_count": null,
      "outputs": []
    },
    {
      "cell_type": "code",
      "source": [
        "print(classification_report(y_test, pred_test))"
      ],
      "metadata": {
        "colab": {
          "base_uri": "https://localhost:8080/"
        },
        "id": "SPCdr4DTzquk",
        "outputId": "740fba84-8fc8-4269-cbd4-a433426f2a2e"
      },
      "execution_count": null,
      "outputs": [
        {
          "output_type": "stream",
          "name": "stdout",
          "text": [
            "              precision    recall  f1-score   support\n",
            "\n",
            "   Rp110,000       1.00      0.50      0.67         2\n",
            "   Rp120,000       0.00      0.00      0.00         0\n",
            "   Rp123,000       0.00      0.00      0.00         1\n",
            "   Rp126,500       0.00      0.00      0.00         0\n",
            "   Rp140,000       1.00      1.00      1.00         1\n",
            "   Rp149,000       0.00      0.00      0.00         0\n",
            "   Rp155,000       0.00      0.00      0.00         0\n",
            "   Rp188,000       0.00      0.00      0.00         0\n",
            "    Rp23,500       0.00      0.00      0.00         1\n",
            "   Rp230,000       0.00      0.00      0.00         1\n",
            "   Rp248,000       0.00      0.00      0.00         1\n",
            "    Rp28,000       0.00      0.00      0.00         0\n",
            "    Rp31,000       0.00      0.00      0.00         2\n",
            "    Rp35,000       0.00      0.00      0.00         0\n",
            "    Rp39,000       0.00      0.00      0.00         2\n",
            "    Rp44,000       0.00      0.00      0.00         1\n",
            "    Rp46,000       0.00      0.00      0.00         2\n",
            "    Rp49,000       0.00      0.00      0.00         0\n",
            "    Rp60,000       0.00      0.00      0.00         0\n",
            "    Rp70,000       0.00      0.00      0.00         1\n",
            "    Rp72,000       1.00      0.50      0.67         4\n",
            "    Rp75,000       0.00      0.00      0.00         0\n",
            "    Rp76,000       0.00      0.00      0.00         1\n",
            "    Rp78,000       0.00      0.00      0.00         0\n",
            "    Rp83,000       1.00      1.00      1.00         1\n",
            "    Rp84,000       0.00      0.00      0.00         1\n",
            "    Rp90,000       1.00      1.00      1.00         2\n",
            "    Rp93,000       0.00      0.00      0.00         1\n",
            "    Rp96,000       1.00      1.00      1.00         1\n",
            "    Rp98,000       0.00      0.00      0.00         0\n",
            "    Rp99,000       0.00      0.00      0.00         0\n",
            "\n",
            "    accuracy                           0.31        26\n",
            "   macro avg       0.19      0.16      0.17        26\n",
            "weighted avg       0.42      0.31      0.35        26\n",
            "\n"
          ]
        }
      ]
    },
    {
      "cell_type": "code",
      "source": [
        "cma = confusion_matrix(y_test, pred_test)"
      ],
      "metadata": {
        "id": "It-ypX4X0OCx"
      },
      "execution_count": null,
      "outputs": []
    },
    {
      "cell_type": "code",
      "source": [
        "fig, ax = plt.subplots(figsize=(5, 5))\n",
        "ax.matshow(cma, cmap =\"coolwarm_r\", alpha=0.3)\n",
        "for i in range(cma.shape[0]):\n",
        "    for j in range(cma.shape[1]):\n",
        "        ax.text(x=j, y=i,s=cma[i, j], va='center', ha='center', size='xx-large')\n",
        " \n",
        "plt.xlabel('Predictions', fontsize=18)\n",
        "plt.ylabel('Actuals', fontsize=18)\n",
        "plt.title('Confusion Matrix', fontsize=18)\n",
        "plt.show()"
      ],
      "metadata": {
        "colab": {
          "base_uri": "https://localhost:8080/",
          "height": 358
        },
        "id": "3iAkGRhD0Rvi",
        "outputId": "4d4b6582-ea61-4fe5-9255-e022912620f2"
      },
      "execution_count": null,
      "outputs": [
        {
          "output_type": "display_data",
          "data": {
            "text/plain": [
              "<Figure size 360x360 with 1 Axes>"
            ],
            "image/png": "[encoded data removed]"
          },
          "metadata": {}
        }
      ]
    },
    {
      "cell_type": "markdown",
      "source": [
        "# Decision Tree Classifier"
      ],
      "metadata": {
        "id": "WXjjL8Kopoi1"
      }
    },
    {
      "cell_type": "code",
      "source": [
        "from sklearn import tree"
      ],
      "metadata": {
        "id": "9D00OqD08nTb"
      },
      "execution_count": null,
      "outputs": []
    },
    {
      "cell_type": "code",
      "source": [
        " clf = tree.DecisionTreeClassifier()\n",
        " clf = clf.fit(X_train, y_train)"
      ],
      "metadata": {
        "id": "hX4z41NdpmuY"
      },
      "execution_count": null,
      "outputs": []
    },
    {
      "cell_type": "code",
      "source": [
        "pred1 = clf.predict(X_train)\n",
        "accuracy_score(y_train, pred1)"
      ],
      "metadata": {
        "colab": {
          "base_uri": "https://localhost:8080/"
        },
        "id": "I-Y3TumGp-YT",
        "outputId": "89c5f929-3623-4658-f444-d333fe7d325d"
      },
      "execution_count": null,
      "outputs": [
        {
          "output_type": "execute_result",
          "data": {
            "text/plain": [
              "0.7087378640776699"
            ]
          },
          "metadata": {},
          "execution_count": 90
        }
      ]
    },
    {
      "cell_type": "code",
      "source": [
        "confusion_matrix(y_train, pred1)"
      ],
      "metadata": {
        "colab": {
          "base_uri": "https://localhost:8080/"
        },
        "id": "x7pR95GeqGtZ",
        "outputId": "177b53b7-4636-4938-aa36-fea70b413b02"
      },
      "execution_count": null,
      "outputs": [
        {
          "output_type": "execute_result",
          "data": {
            "text/plain": [
              "array([[2, 0, 0, ..., 0, 0, 0],\n",
              "       [0, 2, 0, ..., 0, 0, 0],\n",
              "       [0, 0, 2, ..., 0, 0, 0],\n",
              "       ...,\n",
              "       [0, 0, 0, ..., 2, 0, 0],\n",
              "       [1, 0, 0, ..., 0, 2, 0],\n",
              "       [1, 0, 0, ..., 0, 1, 1]])"
            ]
          },
          "metadata": {},
          "execution_count": 91
        }
      ]
    },
    {
      "cell_type": "code",
      "source": [
        "pred1_test = clf.predict(X_test)\n",
        "r=accuracy_score(y_test, pred1_test)"
      ],
      "metadata": {
        "id": "5ZTEkfBJqL2X"
      },
      "execution_count": null,
      "outputs": []
    },
    {
      "cell_type": "code",
      "source": [
        "print(classification_report(y_test, pred1_test))"
      ],
      "metadata": {
        "colab": {
          "base_uri": "https://localhost:8080/"
        },
        "id": "-VDC628AqqD_",
        "outputId": "158fc237-f7a4-461b-d62f-052efae69a8f"
      },
      "execution_count": null,
      "outputs": [
        {
          "output_type": "stream",
          "name": "stdout",
          "text": [
            "              precision    recall  f1-score   support\n",
            "\n",
            "   Rp110,000       1.00      0.50      0.67         2\n",
            "   Rp115,000       0.00      0.00      0.00         0\n",
            "   Rp120,000       0.00      0.00      0.00         0\n",
            "   Rp123,000       0.00      0.00      0.00         1\n",
            "   Rp126,500       0.00      0.00      0.00         0\n",
            "   Rp140,000       1.00      1.00      1.00         1\n",
            "   Rp188,000       0.00      0.00      0.00         0\n",
            "    Rp23,500       0.00      0.00      0.00         1\n",
            "   Rp230,000       1.00      1.00      1.00         1\n",
            "   Rp248,000       0.00      0.00      0.00         1\n",
            "    Rp28,000       0.00      0.00      0.00         0\n",
            "    Rp31,000       0.00      0.00      0.00         2\n",
            "    Rp35,000       0.00      0.00      0.00         0\n",
            "    Rp39,000       0.00      0.00      0.00         2\n",
            "    Rp44,000       0.00      0.00      0.00         1\n",
            "    Rp46,000       0.00      0.00      0.00         2\n",
            "    Rp49,000       0.00      0.00      0.00         0\n",
            "    Rp60,000       0.00      0.00      0.00         0\n",
            "    Rp70,000       1.00      1.00      1.00         1\n",
            "    Rp72,000       1.00      0.75      0.86         4\n",
            "    Rp75,000       0.00      0.00      0.00         0\n",
            "    Rp76,000       0.00      0.00      0.00         1\n",
            "    Rp78,000       0.00      0.00      0.00         0\n",
            "    Rp83,000       0.00      0.00      0.00         1\n",
            "    Rp84,000       0.00      0.00      0.00         1\n",
            "    Rp90,000       1.00      1.00      1.00         2\n",
            "    Rp93,000       0.00      0.00      0.00         1\n",
            "    Rp96,000       0.00      0.00      0.00         1\n",
            "    Rp98,000       0.00      0.00      0.00         0\n",
            "    Rp99,000       0.00      0.00      0.00         0\n",
            "\n",
            "    accuracy                           0.35        26\n",
            "   macro avg       0.20      0.17      0.18        26\n",
            "weighted avg       0.42      0.35      0.38        26\n",
            "\n"
          ]
        }
      ]
    },
    {
      "cell_type": "code",
      "source": [
        "cma = confusion_matrix(y_test, pred1_test)"
      ],
      "metadata": {
        "id": "GR1EguEzq1Nu"
      },
      "execution_count": null,
      "outputs": []
    },
    {
      "cell_type": "code",
      "source": [
        "fig, ax = plt.subplots(figsize=(5, 5))\n",
        "ax.matshow(cma, cmap =\"coolwarm_r\", alpha=0.3)\n",
        "for i in range(cma.shape[0]):\n",
        "    for j in range(cma.shape[1]):\n",
        "        ax.text(x=j, y=i,s=cma[i, j], va='center', ha='center', size='xx-large')\n",
        " \n",
        "plt.xlabel('Predictions', fontsize=18)\n",
        "plt.ylabel('Actuals', fontsize=18)\n",
        "plt.title('Confusion Matrix', fontsize=18)\n",
        "plt.show()"
      ],
      "metadata": {
        "colab": {
          "base_uri": "https://localhost:8080/",
          "height": 358
        },
        "id": "UVy-y7-Uq7zf",
        "outputId": "f5683113-ba64-4f42-c5c2-316f6d94aa65"
      },
      "execution_count": null,
      "outputs": [
        {
          "output_type": "display_data",
          "data": {
            "text/plain": [
              "<Figure size 360x360 with 1 Axes>"
            ],
            "image/png": "[encoded data removed]"
          },
          "metadata": {}
        }
      ]
    },
    {
      "cell_type": "markdown",
      "source": [
        "# Logistic Regression"
      ],
      "metadata": {
        "id": "Q3HsL1KFjovz"
      }
    },
    {
      "cell_type": "code",
      "source": [
        "from sklearn.linear_model import LogisticRegression  \n",
        "clf1= LogisticRegression(random_state=0)  \n",
        "clf1.fit(X_train, y_train)  "
      ],
      "metadata": {
        "colab": {
          "base_uri": "https://localhost:8080/"
        },
        "id": "mnRsrvThg7bg",
        "outputId": "1b80545c-64eb-462a-b999-da1fda92d4d1"
      },
      "execution_count": null,
      "outputs": [
        {
          "output_type": "execute_result",
          "data": {
            "text/plain": [
              "LogisticRegression(random_state=0)"
            ]
          },
          "metadata": {},
          "execution_count": 126
        }
      ]
    },
    {
      "cell_type": "code",
      "source": [
        "pred_LR= clf1.predict(X_train)\n",
        "accuracy_score(y_train, pred_LR)"
      ],
      "metadata": {
        "colab": {
          "base_uri": "https://localhost:8080/"
        },
        "id": "7dKoUVG6iPix",
        "outputId": "45c34a07-aa89-419f-ea45-500c54399058"
      },
      "execution_count": null,
      "outputs": [
        {
          "output_type": "execute_result",
          "data": {
            "text/plain": [
              "0.32038834951456313"
            ]
          },
          "metadata": {},
          "execution_count": 127
        }
      ]
    },
    {
      "cell_type": "code",
      "source": [
        "confusion_matrix(y_train, pred_LR)"
      ],
      "metadata": {
        "colab": {
          "base_uri": "https://localhost:8080/"
        },
        "id": "bOrf6dXFiT2y",
        "outputId": "b1623dc7-805c-4f74-88d3-92cb6223df1d"
      },
      "execution_count": null,
      "outputs": [
        {
          "output_type": "execute_result",
          "data": {
            "text/plain": [
              "array([[0, 0, 0, ..., 0, 0, 0],\n",
              "       [0, 2, 0, ..., 0, 0, 0],\n",
              "       [0, 1, 0, ..., 0, 0, 0],\n",
              "       ...,\n",
              "       [0, 0, 0, ..., 1, 0, 0],\n",
              "       [0, 0, 0, ..., 0, 0, 0],\n",
              "       [0, 0, 0, ..., 0, 0, 1]])"
            ]
          },
          "metadata": {},
          "execution_count": 128
        }
      ]
    },
    {
      "cell_type": "code",
      "source": [
        "pred_LR_test = clf1.predict(X_test)\n",
        "s=accuracy_score(y_test, pred_LR_test)"
      ],
      "metadata": {
        "id": "YL4rPImJitCX"
      },
      "execution_count": null,
      "outputs": []
    },
    {
      "cell_type": "code",
      "source": [
        "print(classification_report(y_test, pred_LR_test))"
      ],
      "metadata": {
        "colab": {
          "base_uri": "https://localhost:8080/"
        },
        "id": "Nzjam_OIm8Jn",
        "outputId": "c1436b35-dbf9-4bfe-ec05-954220591897"
      },
      "execution_count": null,
      "outputs": [
        {
          "output_type": "stream",
          "name": "stdout",
          "text": [
            "              precision    recall  f1-score   support\n",
            "\n",
            "   Rp110,000       1.00      0.50      0.67         2\n",
            "   Rp123,000       0.00      0.00      0.00         1\n",
            "   Rp140,000       1.00      1.00      1.00         1\n",
            "   Rp149,000       0.00      0.00      0.00         0\n",
            "    Rp23,500       0.00      0.00      0.00         1\n",
            "   Rp230,000       0.00      0.00      0.00         1\n",
            "   Rp248,000       0.00      0.00      0.00         1\n",
            "    Rp31,000       0.00      0.00      0.00         2\n",
            "    Rp39,000       0.00      0.00      0.00         2\n",
            "    Rp44,000       0.00      0.00      0.00         1\n",
            "    Rp46,000       0.00      0.00      0.00         2\n",
            "    Rp49,000       0.00      0.00      0.00         0\n",
            "    Rp70,000       0.00      0.00      0.00         1\n",
            "    Rp72,000       0.33      0.25      0.29         4\n",
            "    Rp75,000       0.00      0.00      0.00         0\n",
            "    Rp76,000       0.00      0.00      0.00         1\n",
            "    Rp83,000       0.33      1.00      0.50         1\n",
            "    Rp84,000       0.00      0.00      0.00         1\n",
            "    Rp90,000       0.33      1.00      0.50         2\n",
            "    Rp93,000       0.00      0.00      0.00         1\n",
            "    Rp96,000       0.00      0.00      0.00         1\n",
            "    Rp98,000       0.00      0.00      0.00         0\n",
            "    Rp99,000       0.00      0.00      0.00         0\n",
            "\n",
            "    accuracy                           0.23        26\n",
            "   macro avg       0.13      0.16      0.13        26\n",
            "weighted avg       0.21      0.23      0.19        26\n",
            "\n"
          ]
        }
      ]
    },
    {
      "cell_type": "code",
      "source": [
        "cma = confusion_matrix(y_test, pred_LR_test)"
      ],
      "metadata": {
        "id": "P8crEUGfnEJD"
      },
      "execution_count": null,
      "outputs": []
    },
    {
      "cell_type": "code",
      "source": [
        "fig, ax = plt.subplots(figsize=(5, 5))\n",
        "ax.matshow(cma, cmap =\"coolwarm_r\", alpha=0.3)\n",
        "for i in range(cma.shape[0]):\n",
        "    for j in range(cma.shape[1]):\n",
        "        ax.text(x=j, y=i,s=cma[i, j], va='center', ha='center', size='xx-large')\n",
        " \n",
        "plt.xlabel('Predictions', fontsize=18)\n",
        "plt.ylabel('Actuals', fontsize=18)\n",
        "plt.title('Confusion Matrix', fontsize=18)\n",
        "plt.show()"
      ],
      "metadata": {
        "colab": {
          "base_uri": "https://localhost:8080/",
          "height": 358
        },
        "id": "gDR2YJvlnL28",
        "outputId": "a6c7a11c-3d6a-4dd6-aa60-20abbff38958"
      },
      "execution_count": null,
      "outputs": [
        {
          "output_type": "display_data",
          "data": {
            "text/plain": [
              "<Figure size 360x360 with 1 Axes>"
            ],
            "image/png": "[encoded data removed]"
          },
          "metadata": {}
        }
      ]
    },
    {
      "cell_type": "markdown",
      "source": [
        "# Support Vector Machine"
      ],
      "metadata": {
        "id": "_p1rnhXlALgR"
      }
    },
    {
      "cell_type": "code",
      "source": [
        "from sklearn.svm import SVC  \n",
        "classifier = SVC(kernel='linear', random_state=0)  \n",
        "classifier.fit(X_train, y_train)  "
      ],
      "metadata": {
        "colab": {
          "base_uri": "https://localhost:8080/"
        },
        "id": "vDHbXFiL84Yc",
        "outputId": "1fb7033f-521c-47c1-9e9f-40fa2283bba2"
      },
      "execution_count": null,
      "outputs": [
        {
          "output_type": "execute_result",
          "data": {
            "text/plain": [
              "SVC(kernel='linear', random_state=0)"
            ]
          },
          "metadata": {},
          "execution_count": 104
        }
      ]
    },
    {
      "cell_type": "code",
      "source": [
        "pred_SVM= classifier.predict(X_train)\n",
        "accuracy_score(y_train, pred_SVM)"
      ],
      "metadata": {
        "colab": {
          "base_uri": "https://localhost:8080/"
        },
        "id": "8Mr8bFUO9cx8",
        "outputId": "5c4e0563-a549-4c07-d518-29750092f3b7"
      },
      "execution_count": null,
      "outputs": [
        {
          "output_type": "execute_result",
          "data": {
            "text/plain": [
              "0.47572815533980584"
            ]
          },
          "metadata": {},
          "execution_count": 105
        }
      ]
    },
    {
      "cell_type": "code",
      "source": [
        "confusion_matrix(y_train, pred_SVM)"
      ],
      "metadata": {
        "colab": {
          "base_uri": "https://localhost:8080/"
        },
        "id": "FPS1nJli9tNq",
        "outputId": "8c5b3956-d68a-4495-be8f-fdf3d2166d12"
      },
      "execution_count": null,
      "outputs": [
        {
          "output_type": "execute_result",
          "data": {
            "text/plain": [
              "array([[0, 0, 0, ..., 0, 1, 1],\n",
              "       [0, 2, 0, ..., 0, 0, 0],\n",
              "       [0, 0, 1, ..., 0, 0, 0],\n",
              "       ...,\n",
              "       [0, 0, 0, ..., 2, 0, 0],\n",
              "       [0, 0, 0, ..., 0, 3, 0],\n",
              "       [0, 0, 0, ..., 0, 1, 2]])"
            ]
          },
          "metadata": {},
          "execution_count": 106
        }
      ]
    },
    {
      "cell_type": "code",
      "source": [
        "pred_SVM_test = classifier.predict(X_test)\n",
        "t=accuracy_score(y_test, pred_SVM_test)"
      ],
      "metadata": {
        "id": "TXoHZ2Av92kC"
      },
      "execution_count": null,
      "outputs": []
    },
    {
      "cell_type": "code",
      "source": [
        "print(classification_report(y_test, pred_SVM_test))"
      ],
      "metadata": {
        "colab": {
          "base_uri": "https://localhost:8080/"
        },
        "id": "WqS2KyDT-BAY",
        "outputId": "2417a3b6-5e27-4a8c-bdf5-e1673634de2c"
      },
      "execution_count": null,
      "outputs": [
        {
          "output_type": "stream",
          "name": "stdout",
          "text": [
            "              precision    recall  f1-score   support\n",
            "\n",
            "   Rp110,000       0.00      0.00      0.00         2\n",
            "   Rp119,000       0.00      0.00      0.00         0\n",
            "   Rp120,000       0.00      0.00      0.00         0\n",
            "   Rp123,000       0.00      0.00      0.00         1\n",
            "   Rp140,000       1.00      1.00      1.00         1\n",
            "    Rp23,500       0.00      0.00      0.00         1\n",
            "   Rp230,000       0.00      0.00      0.00         1\n",
            "   Rp235,000       0.00      0.00      0.00         0\n",
            "   Rp248,000       0.00      0.00      0.00         1\n",
            "    Rp31,000       0.00      0.00      0.00         2\n",
            "    Rp33,000       0.00      0.00      0.00         0\n",
            "    Rp35,000       0.00      0.00      0.00         0\n",
            "    Rp39,000       1.00      0.50      0.67         2\n",
            "    Rp44,000       0.00      0.00      0.00         1\n",
            "    Rp46,000       0.50      0.50      0.50         2\n",
            "    Rp49,000       0.00      0.00      0.00         0\n",
            "    Rp70,000       0.00      0.00      0.00         1\n",
            "    Rp72,000       1.00      0.25      0.40         4\n",
            "    Rp75,000       0.00      0.00      0.00         0\n",
            "    Rp76,000       0.00      0.00      0.00         1\n",
            "    Rp83,000       0.50      1.00      0.67         1\n",
            "    Rp84,000       0.00      0.00      0.00         1\n",
            "    Rp90,000       0.50      1.00      0.67         2\n",
            "    Rp93,000       0.00      0.00      0.00         1\n",
            "    Rp96,000       1.00      1.00      1.00         1\n",
            "    Rp98,000       0.00      0.00      0.00         0\n",
            "    Rp99,000       0.00      0.00      0.00         0\n",
            "\n",
            "    accuracy                           0.31        26\n",
            "   macro avg       0.20      0.19      0.18        26\n",
            "weighted avg       0.40      0.31      0.31        26\n",
            "\n"
          ]
        }
      ]
    },
    {
      "cell_type": "code",
      "source": [
        "cma = confusion_matrix(y_test, pred_SVM_test)"
      ],
      "metadata": {
        "id": "6AQELIaA-Gx_"
      },
      "execution_count": null,
      "outputs": []
    },
    {
      "cell_type": "code",
      "source": [
        "fig, ax = plt.subplots(figsize=(5, 5))\n",
        "ax.matshow(cma, cmap =\"prism\", alpha=0.3)\n",
        "for i in range(cma.shape[0]):\n",
        "    for j in range(cma.shape[1]):\n",
        "        ax.text(x=j, y=i,s=cma[i, j], va='center', ha='center', size='xx-large')\n",
        " \n",
        "plt.xlabel('Predictions', fontsize=18)\n",
        "plt.ylabel('Actuals', fontsize=18)\n",
        "plt.title('Confusion Matrix', fontsize=18)\n",
        "plt.show()"
      ],
      "metadata": {
        "colab": {
          "base_uri": "https://localhost:8080/",
          "height": 358
        },
        "id": "3Az_nM3o-NXn",
        "outputId": "d46b0979-e67b-4b1d-e175-5a6fb8357aa5"
      },
      "execution_count": null,
      "outputs": [
        {
          "output_type": "display_data",
          "data": {
            "text/plain": [
              "<Figure size 360x360 with 1 Axes>"
            ],
            "image/png": "[encoded data removed]"
          },
          "metadata": {}
        }
      ]
    },
    {
      "cell_type": "markdown",
      "source": [
        "# Neural networks"
      ],
      "metadata": {
        "id": "hVuHkmeLy9hz"
      }
    },
    {
      "cell_type": "code",
      "source": [
        "from sklearn.neural_network import MLPClassifier"
      ],
      "metadata": {
        "id": "P4Hq6-SWw44V"
      },
      "execution_count": null,
      "outputs": []
    },
    {
      "cell_type": "code",
      "source": [
        "clf2= MLPClassifier(solver='lbfgs', alpha=1e-5,\n",
        "           hidden_layer_sizes=(5, 2), random_state=1)\n",
        "clf2.fit(X_train, y_train)"
      ],
      "metadata": {
        "colab": {
          "base_uri": "https://localhost:8080/"
        },
        "id": "SH7pU8DZybw7",
        "outputId": "cd58b1b7-cb2f-4535-cba0-4f9cdd550f34"
      },
      "execution_count": null,
      "outputs": [
        {
          "output_type": "execute_result",
          "data": {
            "text/plain": [
              "MLPClassifier(alpha=1e-05, hidden_layer_sizes=(5, 2), random_state=1,\n",
              "              solver='lbfgs')"
            ]
          },
          "metadata": {},
          "execution_count": 134
        }
      ]
    },
    {
      "cell_type": "code",
      "source": [
        "pred_NN= clf2.predict(X_train)\n",
        "accuracy_score(y_train, pred_NN)"
      ],
      "metadata": {
        "colab": {
          "base_uri": "https://localhost:8080/"
        },
        "id": "yMSD17iIyiQz",
        "outputId": "e0f21a32-f543-49f2-ba99-e9fe4f4e20af"
      },
      "execution_count": null,
      "outputs": [
        {
          "output_type": "execute_result",
          "data": {
            "text/plain": [
              "0.13592233009708737"
            ]
          },
          "metadata": {},
          "execution_count": 135
        }
      ]
    },
    {
      "cell_type": "code",
      "source": [
        "confusion_matrix(y_train, pred_SVM)"
      ],
      "metadata": {
        "colab": {
          "base_uri": "https://localhost:8080/"
        },
        "id": "M1ffZbyszSeD",
        "outputId": "b033e527-8202-4f2e-8201-8b8ba764a48f"
      },
      "execution_count": null,
      "outputs": [
        {
          "output_type": "execute_result",
          "data": {
            "text/plain": [
              "array([[0, 0, 0, ..., 0, 1, 1],\n",
              "       [0, 2, 0, ..., 0, 0, 0],\n",
              "       [0, 0, 1, ..., 0, 0, 0],\n",
              "       ...,\n",
              "       [0, 0, 0, ..., 2, 0, 0],\n",
              "       [0, 0, 0, ..., 0, 3, 0],\n",
              "       [0, 0, 0, ..., 0, 1, 2]])"
            ]
          },
          "metadata": {},
          "execution_count": 136
        }
      ]
    },
    {
      "cell_type": "code",
      "source": [
        "pred_NN_test = clf2.predict(X_test)\n",
        "u=accuracy_score(y_test, pred_NN_test)"
      ],
      "metadata": {
        "id": "B2_-VKUGzcvH"
      },
      "execution_count": null,
      "outputs": []
    },
    {
      "cell_type": "code",
      "source": [
        "print(classification_report(y_test, pred_NN_test))"
      ],
      "metadata": {
        "colab": {
          "base_uri": "https://localhost:8080/"
        },
        "id": "w648M0Qzzh35",
        "outputId": "06f98e17-90be-48be-d72a-3d89dfb5032b"
      },
      "execution_count": null,
      "outputs": [
        {
          "output_type": "stream",
          "name": "stdout",
          "text": [
            "              precision    recall  f1-score   support\n",
            "\n",
            "   Rp105,000       0.00      0.00      0.00         0\n",
            "   Rp110,000       0.00      0.00      0.00         2\n",
            "   Rp123,000       0.00      0.00      0.00         1\n",
            "   Rp140,000       0.50      1.00      0.67         1\n",
            "   Rp149,000       0.00      0.00      0.00         0\n",
            "    Rp23,500       0.00      0.00      0.00         1\n",
            "   Rp230,000       0.00      0.00      0.00         1\n",
            "   Rp248,000       0.00      0.00      0.00         1\n",
            "    Rp31,000       0.00      0.00      0.00         2\n",
            "    Rp39,000       0.00      0.00      0.00         2\n",
            "    Rp44,000       0.00      0.00      0.00         1\n",
            "    Rp46,000       0.00      0.00      0.00         2\n",
            "    Rp49,000       0.00      0.00      0.00         0\n",
            "    Rp70,000       0.20      1.00      0.33         1\n",
            "    Rp72,000       0.00      0.00      0.00         4\n",
            "    Rp75,000       0.00      0.00      0.00         0\n",
            "    Rp76,000       0.00      0.00      0.00         1\n",
            "    Rp83,000       0.50      1.00      0.67         1\n",
            "    Rp84,000       0.00      0.00      0.00         1\n",
            "    Rp90,000       0.00      0.00      0.00         2\n",
            "    Rp93,000       0.00      0.00      0.00         1\n",
            "    Rp96,000       0.00      0.00      0.00         1\n",
            "    Rp99,000       0.00      0.00      0.00         0\n",
            "\n",
            "    accuracy                           0.12        26\n",
            "   macro avg       0.05      0.13      0.07        26\n",
            "weighted avg       0.05      0.12      0.06        26\n",
            "\n"
          ]
        }
      ]
    },
    {
      "cell_type": "code",
      "source": [
        "cma = confusion_matrix(y_test, pred_NN_test)"
      ],
      "metadata": {
        "id": "_k4JQ9hBznby"
      },
      "execution_count": null,
      "outputs": []
    },
    {
      "cell_type": "code",
      "source": [
        "fig, ax = plt.subplots(figsize=(5, 5))\n",
        "ax.matshow(cma, cmap =\"prism\", alpha=0.3)\n",
        "for i in range(cma.shape[0]):\n",
        "    for j in range(cma.shape[1]):\n",
        "        ax.text(x=j, y=i,s=cma[i, j], va='center', ha='center', size='xx-large')\n",
        " \n",
        "plt.xlabel('Predictions', fontsize=18)\n",
        "plt.ylabel('Actuals', fontsize=18)\n",
        "plt.title('Confusion Matrix', fontsize=18)\n",
        "plt.show()"
      ],
      "metadata": {
        "colab": {
          "base_uri": "https://localhost:8080/",
          "height": 358
        },
        "id": "TZWTPCUyzrHf",
        "outputId": "f0c3bed2-309c-40dd-85fe-d8dc31531b5c"
      },
      "execution_count": null,
      "outputs": [
        {
          "output_type": "display_data",
          "data": {
            "text/plain": [
              "<Figure size 360x360 with 1 Axes>"
            ],
            "image/png": "[encoded data removed]"
          },
          "metadata": {}
        }
      ]
    },
    {
      "cell_type": "markdown",
      "source": [
        "# Comparative predicting"
      ],
      "metadata": {
        "id": "seyZ7k1NoXq7"
      }
    },
    {
      "cell_type": "code",
      "source": [
        "import numpy as np\n",
        "import matplotlib.pyplot as plt\n",
        "# creating the dataset\n",
        "data = {'NB':p, 'RF':q, 'DT':r,'LR':s,'SVM':t,'NN':u}\n",
        "courses = list(data.keys())\n",
        "values = list(data.values())\n",
        "fig = plt.figure(figsize = (10, 5))\n",
        "# creating the bar plot\n",
        "plt.bar(courses, values, color ='maroon',\n",
        "\t\twidth = 0.4)\n",
        "plt.xlabel(\"Algorithms\")\n",
        "plt.ylabel(\"Accuracy\")\n",
        "plt.title(\"Compaaritive analysis of algorithm on the basis of the acccuracy\")\n",
        "plt.show()\n"
      ],
      "metadata": {
        "colab": {
          "base_uri": "https://localhost:8080/",
          "height": 355
        },
        "id": "nFV9oKAXd58l",
        "outputId": "ec52ec23-6a1f-417e-f585-2a8c1ce59c1c"
      },
      "execution_count": null,
      "outputs": [
        {
          "output_type": "display_data",
          "data": {
            "text/plain": [
              "<Figure size 720x360 with 1 Axes>"
            ],
            "image/png": "[encoded data removed]"
          },
          "metadata": {}
        }
      ]
    },
    {
      "cell_type": "code",
      "source": [
        "activities = ['NB', 'RF', 'DT', 'LR','SVM','NN'] \n",
        "# portion covered by each label\n",
        "slices = [p,q,r,s,t,u]\n",
        " \n",
        "# color for each label\n",
        "colors = ['red', 'blue', 'green','yellow','purple','black']\n",
        " \n",
        "# plotting the pie chart\n",
        "plt.pie(slices, labels = activities, colors=colors,\n",
        "        startangle=90, shadow = True, explode = (0, 0, 0.1,0,0,0.1),\n",
        "        radius = 1.2, autopct = '%1.1f%%')\n",
        " \n",
        "# plotting legend\n",
        "plt.legend()\n",
        " \n",
        "# showing the plot\n",
        "plt.show()"
      ],
      "metadata": {
        "colab": {
          "base_uri": "https://localhost:8080/",
          "height": 525
        },
        "id": "lCZX-NfGPIXr",
        "outputId": "d1368719-4fc9-45a3-bc83-9e06589c85f7"
      },
      "execution_count": null,
      "outputs": [
        {
          "output_type": "display_data",
          "data": {
            "text/plain": [
              "<Figure size 842.4x595.44 with 1 Axes>"
            ],
            "image/png": "[encoded data removed]"
          },
          "metadata": {}
        }
      ]
    },
    {
      "cell_type": "markdown",
      "source": [
        "#Model saving"
      ],
      "metadata": {
        "id": "RtK5OuESZiF2"
      }
    },
    {
      "cell_type": "code",
      "source": [
        "filename = 'naive_bayes.sav'\n",
        "joblib.dump(model, filename)\n",
        "filename1 = 'random_forest_Classifier.sav'\n",
        "joblib.dump(clf_forest, filename1)\n",
        "filename2 = 'decision_tree_classifier.sav'\n",
        "joblib.dump(clf, filename2)\n",
        "filename3 = 'logistic_regression.sav'\n",
        "joblib.dump(clf1, filename3)\n",
        "filename4 = 'support_vector_machine.sav'\n",
        "joblib.dump(classifier, filename4)\n",
        "filename5 = 'neural_networks.sav'\n",
        "joblib.dump(clf2, filename5)"
      ],
      "metadata": {
        "colab": {
          "base_uri": "https://localhost:8080/"
        },
        "id": "8n8uQEmLXrfd",
        "outputId": "5b8598b9-77ad-4f9c-ba55-4dba71c8df42"
      },
      "execution_count": 158,
      "outputs": [
        {
          "output_type": "execute_result",
          "data": {
            "text/plain": [
              "['neural_networks.sav']"
            ]
          },
          "metadata": {},
          "execution_count": 158
        }
      ]
    }
  ]
}